{
  "nbformat": 4,
  "nbformat_minor": 5,
  "metadata": {
    "kernelspec": {
      "display_name": "Python 3",
      "language": "python",
      "name": "python3"
    },
    "language_info": {
      "codemirror_mode": {
        "name": "ipython",
        "version": 3
      },
      "file_extension": ".py",
      "mimetype": "text/x-python",
      "name": "python",
      "nbconvert_exporter": "python",
      "pygments_lexer": "ipython3",
      "version": "3.7.6"
    },
    "colab": {
      "name": "Musculation.ipynb",
      "provenance": [],
      "include_colab_link": true
    }
  },
  "cells": [
    {
      "cell_type": "markdown",
      "metadata": {
        "id": "view-in-github",
        "colab_type": "text"
      },
      "source": [
        "<a href=\"https://colab.research.google.com/github/nasreenpmohsin/python-computer-vision-personal-trainer/blob/main/notebooks/Musculation.ipynb\" target=\"_parent\"><img src=\"https://colab.research.google.com/assets/colab-badge.svg\" alt=\"Open In Colab\"/></a>"
      ]
    },
    {
      "cell_type": "code",
      "metadata": {
        "id": "s_-M_cOsMCYg"
      },
      "source": [
        "!git clone https://github.com/Vancouver-Datajam/python-computer-vision.git"
      ],
      "id": "s_-M_cOsMCYg",
      "execution_count": null,
      "outputs": []
    },
    {
      "cell_type": "code",
      "metadata": {
        "id": "d528f217"
      },
      "source": [
        "\n",
        "!pip install mediapipe==v0.8.6\n",
        "!pip install opencv-python\n",
        "import cv2\n",
        "import numpy as np\n",
        "import time\n",
        "!cp /content/python-computer-vision/scripts/PoseModule.py /content/\n",
        "import PoseModule as pm\n",
        "from google.colab.patches import cv2_imshow\n",
        "\n",
        "\n"
      ],
      "id": "d528f217",
      "execution_count": null,
      "outputs": []
    },
    {
      "cell_type": "code",
      "metadata": {
        "id": "aab3acc8"
      },
      "source": [
        "cap = cv2.VideoCapture(\"/content/python-computer-vision/data/curls.mp4\")\n",
        "out = cv2.VideoWriter('output_video.avi',cv2.VideoWriter_fourcc(*'DIVX'), 30, (1280, 720))\n",
        "detector = pm.poseDetector()\n",
        "count = 0\n",
        "dir = 0\n",
        "pTime = 0\n",
        "while True:\n",
        "    success, img = cap.read()\n",
        "    if not success:\n",
        "      break\n",
        "    img = cv2.resize(img, (1280, 720))\n",
        "    # img = cv2.imread(\"AiTrainer/test.jpg\")\n",
        "    img = detector.findPose(img, False)\n",
        "    lmList = detector.findPosition(img, False)\n",
        "    # print(lmList)\n",
        "    if len(lmList) != 0:\n",
        "        # Right Arm\n",
        "        angle = detector.findAngle(img, 12, 14, 16)\n",
        "        # # Left Arm\n",
        "        #angle = detector.findAngle(img, 11, 13, 15,False)\n",
        "        per = np.interp(angle, (210, 310), (0, 100))\n",
        "        bar = np.interp(angle, (210, 310), (650, 100))\n",
        "        # print(angle, per)\n",
        "\n",
        "        # Check for the dumbbell curls\n",
        "        color = (255, 0, 255)\n",
        "        if per >=80: #100:\n",
        "            color = (0, 255, 0)\n",
        "            if dir == 0:\n",
        "                count += 0.5\n",
        "                dir = 1\n",
        "        if per <=10: #0:\n",
        "            color = (0, 255, 0)\n",
        "            if dir == 1:\n",
        "                count += 0.5\n",
        "                dir = 0\n",
        "        print(count)\n",
        "\n",
        "        # Draw Bar\n",
        "        cv2.rectangle(img, (1100, 100), (1175, 650), color, 3)\n",
        "        cv2.rectangle(img, (1100, int(bar)), (1175, 650), color, cv2.FILLED)\n",
        "        cv2.putText(img, f'{int(per)} %', (1100, 75), cv2.FONT_HERSHEY_PLAIN, 4,\n",
        "                    color, 4)\n",
        "\n",
        "        # Draw Curl Count\n",
        "        cv2.rectangle(img, (0, 450), (250, 720), (0, 255, 0), cv2.FILLED)\n",
        "        cv2.putText(img, str(int(count)), (45, 670), cv2.FONT_HERSHEY_PLAIN, 15,\n",
        "                    (255, 0, 0), 25)\n",
        "\n",
        "    cTime = time.time()\n",
        "    fps = 1 / (cTime - pTime)\n",
        "    pTime = cTime\n",
        "    cv2.putText(img, str(int(fps)), (50, 100), cv2.FONT_HERSHEY_PLAIN, 5,\n",
        "                (255, 0, 0), 5)\n",
        "\n",
        "    #cv2.imshow(\"Image\", img) \n",
        "    out.write(img)\n",
        "    #cv2_imshow(img)# to run in google colab\n",
        "    #cv2.waitKey(1)\n",
        "cap.release()\n",
        "out.release()"
      ],
      "id": "aab3acc8",
      "execution_count": null,
      "outputs": []
    }
  ]
}